{
  "cells": [
    {
      "cell_type": "markdown",
      "metadata": {
        "id": "view-in-github",
        "colab_type": "text"
      },
      "source": [
        "<a href=\"https://colab.research.google.com/github/hermathena/pi/blob/main/pi.ipynb\" target=\"_parent\"><img src=\"https://colab.research.google.com/assets/colab-badge.svg\" alt=\"Open In Colab\"/></a>"
      ]
    },
    {
      "cell_type": "code",
      "execution_count": null,
      "metadata": {
        "colab": {
          "base_uri": "https://localhost:8080/"
        },
        "id": "9ksTGifAloMf",
        "outputId": "68e435f2-26c6-4716-e56f-659f0f50f273"
      },
      "outputs": [
        {
          "output_type": "stream",
          "name": "stdout",
          "text": [
            "CPU times: user 68 µs, sys: 0 ns, total: 68 µs\n",
            "Wall time: 72.2 µs\n"
          ]
        },
        {
          "output_type": "execute_result",
          "data": {
            "text/plain": [
              "3.1415926309710924"
            ]
          },
          "metadata": {},
          "execution_count": 10
        }
      ],
      "source": [
        "\n",
        "\n",
        "%%time\n",
        "import random\n",
        "import math\n",
        "\n",
        "random.seed(64)\n",
        "rn = random.random()\n",
        "x = 0.0001 # some small degree\n",
        "z = math.sqrt(rn**2 + rn**2 - 2*rn*rn*math.cos(x)) # cosine rule used to approximate the circle sector circumference with radius rn and degree x\n",
        "pi = (z*(360/math.degrees(x)))/(rn*2) # pi is circumference divided by diameter\n",
        "pi"
      ]
    },
    {
      "cell_type": "code",
      "execution_count": null,
      "metadata": {
        "colab": {
          "base_uri": "https://localhost:8080/"
        },
        "id": "-ysSZll1pu7R",
        "outputId": "26cc8956-bb72-42b5-ba17-322b7191a975"
      },
      "outputs": [
        {
          "data": {
            "text/plain": [
              "3.141592653589793"
            ]
          },
          "execution_count": 2,
          "metadata": {},
          "output_type": "execute_result"
        }
      ],
      "source": [
        "math.pi"
      ]
    }
  ],
  "metadata": {
    "colab": {
      "provenance": [],
      "authorship_tag": "ABX9TyP7ZjfS1qZTdo8EFPgagdFI",
      "include_colab_link": true
    },
    "kernelspec": {
      "display_name": "Python 3",
      "name": "python3"
    },
    "language_info": {
      "name": "python"
    }
  },
  "nbformat": 4,
  "nbformat_minor": 0
}